{
  "nbformat": 4,
  "nbformat_minor": 0,
  "metadata": {
    "colab": {
      "private_outputs": true,
      "provenance": [],
      "collapsed_sections": [
        "FJNUwmbgGyua",
        "w6K7xa23Elo4",
        "yQaldy8SH6Dl",
        "mDgbUHAGgjLW",
        "HhfV-JJviCcP",
        "Y3lxredqlCYt",
        "3RnN4peoiCZX",
        "7hBIi_osiCS2",
        "nA9Y7ga8ng1Z",
        "VNPZgNMnQyx_",
        "dauF4eBmngu3",
        "nW7jSwjuWtC-",
        "aPKQ64CzZsm4",
        "7cS3mVkklNr7",
        "c-q4C0ZnZ3CR",
        "vvwcPjRMa6jv",
        "rMW8nlinB-wc",
        "4fxS4pGDEaoW",
        "Xp-EzVlCGfKj",
        "rCJ0LsZyINI8",
        "CtvY_z4CvLDy",
        "uWX2ryIiwUch",
        "lZ3ST58p0Vm6",
        "pp1bPIKYJ6xw",
        "Hc-4bI5tKILj",
        "fhcREbJxK5AF",
        "JcMwzZxoAimU",
        "gCX9965dhzqZ",
        "gIfDvo9L0UH2"
      ]
    },
    "kernelspec": {
      "name": "python3",
      "display_name": "Python 3"
    },
    "language_info": {
      "name": "python"
    }
  },
  "cells": [
    {
      "cell_type": "markdown",
      "source": [
        "# **Project Name**    - Play Store App Review Analysis\n",
        "\n"
      ],
      "metadata": {
        "id": "vncDsAP0Gaoa"
      }
    },
    {
      "cell_type": "markdown",
      "source": [
        "##### **Project Type**    - EDA/Regression/Classification/Unsupervised\n",
        "##### **Contribution**    - Individual\n",
        "##### **Team Member  -** Sakshi  Pande\n"
      ],
      "metadata": {
        "id": "beRrZCGUAJYm"
      }
    },
    {
      "cell_type": "markdown",
      "source": [
        "# **Project Summary -**"
      ],
      "metadata": {
        "id": "FJNUwmbgGyua"
      }
    },
    {
      "cell_type": "markdown",
      "source": [
        "In this notebook, I'm gonna analyze Google Play Store datas. While I was analyzing the data, I used Python. This study is my first data analyzing study.\n",
        "\n",
        "Google Play Store apps and reviews Mobile apps are everywhere. They are easy to create and can be lucrative. Because of these two factors, more and more apps are being developed. In this notebook, we will do a comprehensive analysis of the Android app market by comparing over ten thousand apps in Google Play across different categories. We'll look for insights in the data to devise strategies to drive growth and retention.\n",
        "\n",
        "Let's take a look at the data, which consists of two files:\n",
        "\n",
        "* **playstore data.csv:** contains all the details of the applications on Google Play. There are 13 features that describe a given app.\n",
        "* **user_reviews.csv:** contains 100 reviews for each app, most helpful first. The text in each review has been pre-processed and attributed with three new features: Sentiment (Positive, Negative or Neutral), Sentiment Polarity and Sentiment Subjectivity."
      ],
      "metadata": {
        "id": "UiPko6zG3tL2"
      }
    },
    {
      "cell_type": "markdown",
      "source": [
        "# **GitHub Link -**"
      ],
      "metadata": {
        "id": "w6K7xa23Elo4"
      }
    },
    {
      "cell_type": "markdown",
      "source": [
        "Provide your GitHub Link here."
      ],
      "metadata": {
        "id": "h1o69JH3Eqqn"
      }
    },
    {
      "cell_type": "markdown",
      "source": [
        "# **Problem Statement**\n"
      ],
      "metadata": {
        "id": "yQaldy8SH6Dl"
      }
    },
    {
      "cell_type": "markdown",
      "source": [
        "1. What are the top categories on Play Store?\n",
        "2. Are majority of the apps Paid or Free?\n",
        "3. How importance is the rating of the application?\n",
        "4. Which categories from the audience should the app be based on?\n",
        "5. Which category has the most no. of installations?\n",
        "6. How does the count of apps varies by Genres?\n",
        "7. How does the last update has an effect on the rating?\n",
        "8.  What is the percentage of review sentiments?\n",
        "9. Does Last Update date has an effects on rating?\n",
        "10. Distribution of App update over the Year.\n"
      ],
      "metadata": {
        "id": "DpeJGUA3kjGy"
      }
    },
    {
      "cell_type": "markdown",
      "source": [
        "#### **Define Your Business Objective?**"
      ],
      "metadata": {
        "id": "PH-0ReGfmX4f"
      }
    },
    {
      "cell_type": "markdown",
      "source": [
        "The Play Store apps data has enormous potential to drive app-making businesses to success. Actionable insights can be drawn for developers to work on and capture the Android market. Each app (row) has values for category, rating, size, and more. Another dataset contains customer reviews of the android apps. Explore and analyse the data to discover key factors responsible for app engagement and success."
      ],
      "metadata": {
        "id": "PhDvGCAqmjP1"
      }
    },
    {
      "cell_type": "markdown",
      "source": [
        "# **General Guidelines** : -  "
      ],
      "metadata": {
        "id": "mDgbUHAGgjLW"
      }
    },
    {
      "cell_type": "markdown",
      "source": [
        "1.   Well-structured, formatted, and commented code is required.\n",
        "2.   Exception Handling, Production Grade Code & Deployment Ready Code will be a plus. Those students will be awarded some additional credits.\n",
        "     \n",
        "     The additional credits will have advantages over other students during Star Student selection.\n",
        "       \n",
        "             [ Note: - Deployment Ready Code is defined as, the whole .ipynb notebook should be executable in one go\n",
        "                       without a single error logged. ]\n",
        "\n",
        "3.   Each and every logic should have proper comments.\n",
        "4. You may add as many number of charts you want. Make Sure for each and every chart the following format should be answered.\n",
        "        \n",
        "\n",
        "```\n",
        "# Chart visualization code\n",
        "```\n",
        "            \n",
        "\n",
        "*   Why did you pick the specific chart?\n",
        "*   What is/are the insight(s) found from the chart?\n",
        "* Will the gained insights help creating a positive business impact?\n",
        "Are there any insights that lead to negative growth? Justify with specific reason.\n",
        "\n",
        "5. You have to create at least 20 logical & meaningful charts having important insights.\n",
        "\n",
        "\n",
        "[ Hints : - Do the Vizualization in  a structured way while following \"UBM\" Rule.\n",
        "\n",
        "U - Univariate Analysis,\n",
        "\n",
        "B - Bivariate Analysis (Numerical - Categorical, Numerical - Numerical, Categorical - Categorical)\n",
        "\n",
        "M - Multivariate Analysis\n",
        " ]\n",
        "\n",
        "\n",
        "\n"
      ],
      "metadata": {
        "id": "ZrxVaUj-hHfC"
      }
    },
    {
      "cell_type": "markdown",
      "source": [
        "# ***Let's Begin !***"
      ],
      "metadata": {
        "id": "O_i_v8NEhb9l"
      }
    },
    {
      "cell_type": "markdown",
      "source": [
        "# **1. Know Your Data**"
      ],
      "metadata": {
        "id": "HhfV-JJviCcP"
      }
    },
    {
      "cell_type": "markdown",
      "source": [
        "### Import Libraries"
      ],
      "metadata": {
        "id": "Y3lxredqlCYt"
      }
    },
    {
      "cell_type": "code",
      "source": [
        "# Import Libraries\n",
        "import pandas as pd\n",
        "import numpy as np\n",
        "import matplotlib.pyplot as plt\n",
        "import seaborn as sns"
      ],
      "metadata": {
        "id": "M8Vqi-pPk-HR"
      },
      "execution_count": null,
      "outputs": []
    },
    {
      "cell_type": "markdown",
      "source": [
        "### Dataset Loading"
      ],
      "metadata": {
        "id": "3RnN4peoiCZX"
      }
    },
    {
      "cell_type": "code",
      "source": [
        "# Load Dataset\n",
        "playstore_path = 'Play Store Data.csv'\n",
        "reviews_path = 'User Reviews.csv'\n"
      ],
      "metadata": {
        "id": "4CkvbW_SlZ_R"
      },
      "execution_count": null,
      "outputs": []
    },
    {
      "cell_type": "markdown",
      "source": [
        "### Dataset First View"
      ],
      "metadata": {
        "id": "x71ZqKXriCWQ"
      }
    },
    {
      "cell_type": "code",
      "source": [
        "# Dataset First Look\n",
        "playstore_df = pd.read_csv(playstore_path)\n",
        "user_df = pd.read_csv(reviews_path)\n"
      ],
      "metadata": {
        "id": "LWNFOSvLl09H"
      },
      "execution_count": null,
      "outputs": []
    },
    {
      "cell_type": "markdown",
      "source": [
        "### Dataset Rows & Columns count"
      ],
      "metadata": {
        "id": "7hBIi_osiCS2"
      }
    },
    {
      "cell_type": "code",
      "source": [
        "# Dataset Rows & Columns count\n",
        "print(f\"Playstore Dataframe : Rows count -  {playstore_df.shape[0]}, Column count - {playstore_df.shape[1]}\")\n"
      ],
      "metadata": {
        "id": "Kllu7SJgmLij"
      },
      "execution_count": null,
      "outputs": []
    },
    {
      "cell_type": "code",
      "source": [
        "print(f\"User review Dataframe : Rows count -  {user_df.shape[0]}, Column count - {user_df.shape[1]}\")\n"
      ],
      "metadata": {
        "id": "1Rv75K4aPXwP"
      },
      "execution_count": null,
      "outputs": []
    },
    {
      "cell_type": "markdown",
      "source": [
        "1. Playstore dataframe has 10841 rows and 13 columns.\n",
        "2. User_reviews dataframe has 64295 rows and 5 columns.\n",
        "\n"
      ],
      "metadata": {
        "id": "gfoNAAC-nUe_"
      }
    },
    {
      "cell_type": "markdown",
      "source": [
        "### Dataset Information"
      ],
      "metadata": {
        "id": "JlHwYmJAmNHm"
      }
    },
    {
      "cell_type": "code",
      "source": [
        "# Dataset Describe\n",
        "playstore_df.describe()"
      ],
      "metadata": {
        "collapsed": true,
        "id": "nRjn2BX1FpwD"
      },
      "execution_count": null,
      "outputs": []
    },
    {
      "cell_type": "code",
      "source": [
        "# Dataset Info\n",
        "def playstore_info():\n",
        "    temp = pd.DataFrame(index = playstore_df.columns)\n",
        "    temp['datatype'] = playstore_df.dtypes\n",
        "    temp['not null value'] = playstore_df.count()\n",
        "    temp['null value'] = playstore_df.isnull().sum()\n",
        "    temp['% of null value'] = playstore_df.isnull().mean()\n",
        "    temp['unique count'] = playstore_df.nunique()\n",
        "    return temp\n",
        "playstore_info()"
      ],
      "metadata": {
        "id": "e9hRXRi6meOf"
      },
      "execution_count": null,
      "outputs": []
    },
    {
      "cell_type": "markdown",
      "source": [
        "#### What did you know about your dataset?"
      ],
      "metadata": {
        "id": "H0kj-8xxnORC"
      }
    },
    {
      "cell_type": "markdown",
      "source": [
        "Rating has 1474 null values which contributes 13.60% of the data. Type has 1 null value which contributes 0.01% of the data. Content_Rating has 1 null value which contributes 0.01% of the data. Current_Ver has 8 null values which contributes 0.07% of the data. Android_Ver has 3 null values which contributes 0.03% of the data."
      ],
      "metadata": {
        "id": "FHnn0N_7Feii"
      }
    },
    {
      "cell_type": "code",
      "source": [
        "user_df.describe()"
      ],
      "metadata": {
        "collapsed": true,
        "id": "7FV6Dw2hP0ov"
      },
      "execution_count": null,
      "outputs": []
    },
    {
      "cell_type": "code",
      "source": [
        "# Dataset Info\n",
        "def user_info():\n",
        "    temp = pd.DataFrame(index = user_df.columns)\n",
        "    temp['datatype'] = user_df.dtypes\n",
        "    temp['not null value'] = user_df.count()\n",
        "    temp['null value'] = user_df.isnull().sum()\n",
        "    temp['% of null value'] = user_df.isnull().mean()\n",
        "    temp['unique count'] = user_df.nunique()\n",
        "    return temp\n",
        "\n",
        "user_info()"
      ],
      "metadata": {
        "id": "b1P_MdY-QB2V"
      },
      "execution_count": null,
      "outputs": []
    },
    {
      "cell_type": "markdown",
      "source": [
        "The number of null values are:\n",
        "\n",
        "Translated_Review has 26868 null values which contributes 41.79% of the data.\n",
        "Sentiment has 26863 null values which contributes 41.78% of the data.\n",
        "Sentiment_Polarity has 26863 null values which contributes 41.78% of the data.\n",
        "Sentiment_Subjectivity has 26863 null values which contributes 41.78% of the data."
      ],
      "metadata": {
        "id": "MlD92T9gQaha"
      }
    },
    {
      "cell_type": "markdown",
      "source": [
        "# **2. Understanding Your Variables**"
      ],
      "metadata": {
        "id": "nA9Y7ga8ng1Z"
      }
    },
    {
      "cell_type": "markdown",
      "source": [
        "### Playstore_Df"
      ],
      "metadata": {
        "id": "VNPZgNMnQyx_"
      }
    },
    {
      "cell_type": "code",
      "source": [
        "# Dataset Columns\n",
        "playstore_df.columns"
      ],
      "metadata": {
        "id": "j7xfkqrt5Ag5"
      },
      "execution_count": null,
      "outputs": []
    },
    {
      "cell_type": "markdown",
      "source": [
        "#### Variables Description"
      ],
      "metadata": {
        "id": "PBTbrJXOngz2"
      }
    },
    {
      "cell_type": "markdown",
      "source": [
        "The 13 columns are identified as below:\n",
        "1. **App** - It tells us about the name of the application with a short description (optional).\n",
        "2. **Category** - It gives the category to the app.\n",
        "3. **Rating** - It contains the average rating the respective app received from its users.\n",
        "4. **Reviews** - It tells us about the total number of users who have given a review for the application.\n",
        "5. **Size** - It tells us about the size being occupied the application on the mobile phone.\n",
        "6. **Installs** - It tells us about the total number of installs/downloads for an application.\n",
        "7. **Type** - IIt states whether an app is free to use or paid.\n",
        "8. **Price** - It gives the price payable to install the app. For free type apps, the price is zero.\n",
        "9. **Content Rating** - It states whether or not an app is suitable for all age groups or not.\n",
        "10. **Genres** - It tells us about the various other categories to which an application can belong.\n",
        "11. **Last Updated** - It tells us about the when the application was updated.\n",
        "12. **Current Ver** - It tells us about the current version of the application.\n",
        "13.**Android Ver** - It tells us about the android version which can support the application on its platform.\n"
      ],
      "metadata": {
        "id": "xy5LC1Y3GG2f"
      }
    },
    {
      "cell_type": "markdown",
      "source": [
        "### User_df"
      ],
      "metadata": {
        "id": "YonKp5eGQ4rI"
      }
    },
    {
      "cell_type": "code",
      "source": [
        "user_df.columns"
      ],
      "metadata": {
        "id": "3BFYzBR6Qh5D"
      },
      "execution_count": null,
      "outputs": []
    },
    {
      "cell_type": "markdown",
      "source": [
        "#### Variable Description"
      ],
      "metadata": {
        "id": "pnPa9USwRBUy"
      }
    },
    {
      "cell_type": "markdown",
      "source": [
        " The 5 columns are identified as follows:\n",
        "\n",
        "* **App:** Contains the name of the app with a short description (optional).\n",
        "* **Translated_Review:** It contains the English translation of the review dropped by the user of the app.\n",
        "* **Sentiment:** It gives the attitude/emotion of the writer. It can be ‘Positive’, ‘Negative’, or ‘Neutral’.\n",
        "* **Sentiment_Polarity:** It gives the polarity of the review. Its range is [-1,1], where 1 means ‘Positive statement’ and -1 means a ‘Negative statement’.\n",
        "* **Sentiment_Subjectivity:** This value gives how close a reviewers opinion is to the opinion of the general public. Its range is [0,1]. Higher the subjectivity, closer is the reviewers opinion to the opinion of the general public, and lower subjectivity indicates the review is more of a factual information."
      ],
      "metadata": {
        "id": "eBbOYR7gQoIJ"
      }
    },
    {
      "cell_type": "code",
      "source": [],
      "metadata": {
        "id": "4yzDLmOPQlK3"
      },
      "execution_count": null,
      "outputs": []
    },
    {
      "cell_type": "markdown",
      "source": [
        "# **3. Data Wrangling**"
      ],
      "metadata": {
        "id": "dauF4eBmngu3"
      }
    },
    {
      "cell_type": "markdown",
      "source": [
        "### Playstore_df"
      ],
      "metadata": {
        "id": "bKJF3rekwFvQ"
      }
    },
    {
      "cell_type": "markdown",
      "source": [
        "#### 1.Lets handle missing values"
      ],
      "metadata": {
        "id": "pLZqsfROG1nb"
      }
    },
    {
      "cell_type": "markdown",
      "source": [
        "##### Android Ver column"
      ],
      "metadata": {
        "id": "qHKdrEj1HOii"
      }
    },
    {
      "cell_type": "code",
      "source": [
        "# The rows containing NaN values in the Android Ver column\n",
        "playstore_df[playstore_df['Android Ver'].isnull()]"
      ],
      "metadata": {
        "collapsed": true,
        "id": "_ebX2QMtGbuu"
      },
      "execution_count": null,
      "outputs": []
    },
    {
      "cell_type": "code",
      "source": [
        "# Finding the different values the 'Android Ver' column takes\n",
        "playstore_df['Android Ver'].value_counts()"
      ],
      "metadata": {
        "collapsed": true,
        "id": "OJAyj51bGbrG"
      },
      "execution_count": null,
      "outputs": []
    },
    {
      "cell_type": "markdown",
      "source": [
        "Since the NaN values in the Android Ver column cannot be replaced by any particular value, and, since there are only 3 rows which contain NaN values in this column, which accounts to less than 0.03% of the total rows in the given dataset, it can be be dropped."
      ],
      "metadata": {
        "id": "Hp6rN5JDHzB_"
      }
    },
    {
      "cell_type": "code",
      "source": [
        "#drop the null values\n",
        "playstore_df = playstore_df[playstore_df['Android Ver'].notna()]"
      ],
      "metadata": {
        "collapsed": true,
        "id": "nuZPgTFnGbnF"
      },
      "execution_count": null,
      "outputs": []
    },
    {
      "cell_type": "code",
      "source": [
        "playstore_df['Android Ver'].isnull().sum()"
      ],
      "metadata": {
        "id": "ueLoNPE9Gbi9"
      },
      "execution_count": null,
      "outputs": []
    },
    {
      "cell_type": "markdown",
      "source": [
        "##### Current Ver column"
      ],
      "metadata": {
        "id": "gZAXcB5LJZU6"
      }
    },
    {
      "cell_type": "code",
      "source": [
        "playstore_df['Current Ver'].isnull().sum()"
      ],
      "metadata": {
        "id": "Z4-pxuNuJr_K"
      },
      "execution_count": null,
      "outputs": []
    },
    {
      "cell_type": "markdown",
      "source": [
        "Since there are only 8 rows which contain NaN values in the Current Ver column, and it accounts to just around 0.07% of the total rows in the given dataset, and there is no particular value with which we can replace it, these rows can be dropped."
      ],
      "metadata": {
        "id": "i5E7CG__JqxJ"
      }
    },
    {
      "cell_type": "code",
      "source": [
        "#drop the null values\n",
        "playstore_df = playstore_df[playstore_df['Current Ver'].notna()]"
      ],
      "metadata": {
        "id": "IbB71TY5Gbfi"
      },
      "execution_count": null,
      "outputs": []
    },
    {
      "cell_type": "markdown",
      "source": [
        "##### Type column"
      ],
      "metadata": {
        "id": "NIlr92cqKEMb"
      }
    },
    {
      "cell_type": "code",
      "source": [
        "playstore_df[playstore_df['Type'].isnull()]"
      ],
      "metadata": {
        "id": "wsSMAuhBGbcB"
      },
      "execution_count": null,
      "outputs": []
    },
    {
      "cell_type": "markdown",
      "source": [
        "The Type column contains only two entries, namely, Free and Paid. Also, if the app is of type-paid, the price of that app will be printed in the corresponding Price column, else, it will show as '0'. In this case, the price for the respective app is printed as '0', which means the app is of type-free. Hence we can replace this NaN value with Free."
      ],
      "metadata": {
        "id": "0myE71ljKY6T"
      }
    },
    {
      "cell_type": "code",
      "source": [
        "playstore_df.loc[9148, \"Type\"] = 'Free'"
      ],
      "metadata": {
        "id": "oR7yIyyXGbYQ"
      },
      "execution_count": null,
      "outputs": []
    },
    {
      "cell_type": "markdown",
      "source": [
        "##### Rating column"
      ],
      "metadata": {
        "id": "fA9qVWqPKsaY"
      }
    },
    {
      "cell_type": "code",
      "source": [
        "playstore_df['Rating'].isnull().sum()"
      ],
      "metadata": {
        "id": "_3jxyCEdGbQ7"
      },
      "execution_count": null,
      "outputs": []
    },
    {
      "cell_type": "markdown",
      "source": [
        "* The Rating column contains 1470 NaN values which accounts to apprximately 13.5% of the rows in the entire dataset. It is not practical to drop these rows because by doing so, we will loose a large amount of data, which may impact the final quality of the analysis.\n",
        "* The NaN values in this case can be imputed by the aggregate (mean or median) of the remaining values in the Rating column."
      ],
      "metadata": {
        "id": "5JkknrFX5E3q"
      }
    },
    {
      "cell_type": "code",
      "source": [
        "mean_rating = round(playstore_df['Rating'].mean(),4)\n",
        "median_rating = round(playstore_df['Rating'].median(),4)\n",
        "\n",
        "[mean_rating, median_rating]"
      ],
      "metadata": {
        "id": "QejSIGXyGbNf"
      },
      "execution_count": null,
      "outputs": []
    },
    {
      "cell_type": "markdown",
      "source": [
        "Plotting subplots to decide what to use mean or median?\n"
      ],
      "metadata": {
        "id": "uDuJLnpg6rim"
      }
    },
    {
      "cell_type": "code",
      "source": [
        "fig, ax = plt.subplots(2,1, figsize=(12,7))\n",
        "sns.distplot(playstore_df['Rating'],color='firebrick',ax=ax[0])\n",
        "sns.boxplot(x='Rating',data=playstore_df, ax=ax[1])"
      ],
      "metadata": {
        "id": "VmhMKewhGbJW"
      },
      "execution_count": null,
      "outputs": []
    },
    {
      "cell_type": "markdown",
      "source": [
        "* Use the mean when the data is normally distributed, numeric, and not skewed.\n",
        "* Use the median when the data is numeric and skewed, or if there are outliers. The median is unaffected by outliers, unlike the mean.\n",
        "* A box plot is a primary tool in EDA that can help determine skewness. The median is represented by a line in the middle of a rectangular box, with the 25th and 75th percentiles represented by the top and bottom of the box. If the median is not in the middle, the distribution is skewed.\n",
        "* Here data is left skewed, so use median for handling missing values in Rating columns"
      ],
      "metadata": {
        "id": "ia_EfkZT7k4Q"
      }
    },
    {
      "cell_type": "code",
      "source": [
        "playstore_df['Rating'].fillna(value = median_rating, inplace = True)"
      ],
      "metadata": {
        "id": "aHWHoslRGbEz"
      },
      "execution_count": null,
      "outputs": []
    },
    {
      "cell_type": "code",
      "source": [
        "playstore_df['Rating'].isnull().sum()"
      ],
      "metadata": {
        "id": "d5rHPZM7Ga7v"
      },
      "execution_count": null,
      "outputs": []
    },
    {
      "cell_type": "markdown",
      "source": [
        "#### 2. Handling duplicate values"
      ],
      "metadata": {
        "id": "P7l_7nnv8fOI"
      }
    },
    {
      "cell_type": "code",
      "source": [
        "playstore_df.duplicated().sum()"
      ],
      "metadata": {
        "id": "KzBJTKNd8KAx"
      },
      "execution_count": null,
      "outputs": []
    },
    {
      "cell_type": "code",
      "source": [
        "playstore_df['App'].value_counts()"
      ],
      "metadata": {
        "id": "2EUo5fqW8J8_"
      },
      "execution_count": null,
      "outputs": []
    },
    {
      "cell_type": "markdown",
      "source": [
        "ROBLOX App is duplicates"
      ],
      "metadata": {
        "id": "x7MSyVO-DbSd"
      }
    },
    {
      "cell_type": "code",
      "source": [
        "playstore_df.drop_duplicates(subset = 'App', inplace = True)"
      ],
      "metadata": {
        "id": "s0mP-yuX8Jxf"
      },
      "execution_count": null,
      "outputs": []
    },
    {
      "cell_type": "code",
      "source": [
        "playstore_df[playstore_df['App'] == 'ROBLOX']"
      ],
      "metadata": {
        "id": "aRpK4fNY8JmQ"
      },
      "execution_count": null,
      "outputs": []
    },
    {
      "cell_type": "markdown",
      "source": [
        "#### 3. Changing Datatypes"
      ],
      "metadata": {
        "id": "LudembJXD4lu"
      }
    },
    {
      "cell_type": "code",
      "source": [
        "playstore_df.dtypes"
      ],
      "metadata": {
        "collapsed": true,
        "id": "2k0hZ9Dr8JjM"
      },
      "execution_count": null,
      "outputs": []
    },
    {
      "cell_type": "markdown",
      "source": [
        "##### Last updated column"
      ],
      "metadata": {
        "id": "DZB_6_A0EXxc"
      }
    },
    {
      "cell_type": "code",
      "source": [
        "playstore_df['Last Updated'] = pd.to_datetime(playstore_df['Last Updated'])\n",
        "playstore_df['Last Updated'].head()"
      ],
      "metadata": {
        "collapsed": true,
        "id": "KQRCGyomD3p6"
      },
      "execution_count": null,
      "outputs": []
    },
    {
      "cell_type": "markdown",
      "source": [
        "##### Price column"
      ],
      "metadata": {
        "id": "Bas0yDx7EcdU"
      }
    },
    {
      "cell_type": "code",
      "source": [
        "playstore_df['Price'].value_counts()"
      ],
      "metadata": {
        "id": "4-qlfz9KD3lq"
      },
      "execution_count": null,
      "outputs": []
    },
    {
      "cell_type": "markdown",
      "source": [
        "To convert this column from string to float, we must first drop the $ symbol from the all the values. Then we can assign float datatype to those values."
      ],
      "metadata": {
        "id": "_eIo2s7RE8R0"
      }
    },
    {
      "cell_type": "code",
      "source": [
        "#drop dollar functio to drop $ if present\n",
        "def drop_dollar(val):\n",
        "    if '$' in val:\n",
        "        return float(val[1:])\n",
        "    else:\n",
        "        return float(val)"
      ],
      "metadata": {
        "id": "uhSrTw6gD3h7"
      },
      "execution_count": null,
      "outputs": []
    },
    {
      "cell_type": "code",
      "source": [
        "#drop_dollar function applied to price column\n",
        "playstore_df['Price'] = playstore_df['Price'].apply(lambda x : drop_dollar(x))\n"
      ],
      "metadata": {
        "id": "GDYvWVIBD3dn"
      },
      "execution_count": null,
      "outputs": []
    },
    {
      "cell_type": "markdown",
      "source": [
        "##### Installs columns"
      ],
      "metadata": {
        "id": "bVpQbHWcGkzU"
      }
    },
    {
      "cell_type": "code",
      "source": [
        "playstore_df['Installs'].value_counts()"
      ],
      "metadata": {
        "collapsed": true,
        "id": "2te3Fchq8Jfh"
      },
      "execution_count": null,
      "outputs": []
    },
    {
      "cell_type": "markdown",
      "source": [
        "To convert all the values in the Installs column from string datatype to integer datatype, we must first drop the '+' symbol from all the entries if present and then we can change its datatype."
      ],
      "metadata": {
        "id": "ZLWlfFq-Hllj"
      }
    },
    {
      "cell_type": "code",
      "source": [
        "def convert_plus(val):\n",
        "  '''\n",
        "  This function drops the + symbol if present and returns the value with int datatype.\n",
        "  '''\n",
        "  if '+' and ',' in val:\n",
        "    new = int(val[:-1].replace(',',''))\n",
        "    return new\n",
        "  elif '+' in val:\n",
        "    new1 = int(val[:-1])\n",
        "    return new1\n",
        "  else:\n",
        "    return int(val)"
      ],
      "metadata": {
        "id": "OZwDZwilGgDq"
      },
      "execution_count": null,
      "outputs": []
    },
    {
      "cell_type": "code",
      "source": [
        "playstore_df['Installs'] = playstore_df['Installs'].apply(lambda x : convert_plus(x))"
      ],
      "metadata": {
        "id": "oBRzil05Gf_4"
      },
      "execution_count": null,
      "outputs": []
    },
    {
      "cell_type": "code",
      "source": [
        "playstore_df['Installs'].head()"
      ],
      "metadata": {
        "collapsed": true,
        "id": "K3eSbNfGGhlQ"
      },
      "execution_count": null,
      "outputs": []
    },
    {
      "cell_type": "markdown",
      "source": [
        "##### Size column"
      ],
      "metadata": {
        "id": "MAKp5xStJP1v"
      }
    },
    {
      "cell_type": "code",
      "source": [
        "playstore_df['Size'].value_counts()"
      ],
      "metadata": {
        "collapsed": true,
        "id": "0pbU5QEOGhiP"
      },
      "execution_count": null,
      "outputs": []
    },
    {
      "cell_type": "markdown",
      "source": [
        "We can see that the values in the Size column contains data with different units. 'M' stands for MB and 'k' stands for KB. To easily analyse this column, it is necessary to convert all the values to a single unit. In this case, we will convert all the units to MB.\n",
        "\n",
        "We know that 1MB = 1024KB, to convert KB to MB, we must divide all the values which are in KB by 1024."
      ],
      "metadata": {
        "id": "5K3levf0Jw68"
      }
    },
    {
      "cell_type": "code",
      "source": [
        "# Defining a function to convert all the entries in KB to MB and then converting them to float datatype.\n",
        "\n",
        "def convert_kb_to_mb(val):\n",
        "  '''\n",
        "  This function converts all the valid entries in KB to MB and returns the result in float datatype.\n",
        "  '''\n",
        "  try:\n",
        "    if 'M' in val:\n",
        "      return float(val[:-1])\n",
        "    elif 'k' in val:\n",
        "      return round(float(val[:-1])/1024, 4)\n",
        "    else:\n",
        "      return val\n",
        "  except:\n",
        "    return val"
      ],
      "metadata": {
        "id": "tsxoKCh-Ghe0"
      },
      "execution_count": null,
      "outputs": []
    },
    {
      "cell_type": "code",
      "source": [
        "playstore_df['Size'] = playstore_df['Size'].apply(lambda x : convert_kb_to_mb(x))"
      ],
      "metadata": {
        "id": "h8fo-qFVGhbh"
      },
      "execution_count": null,
      "outputs": []
    },
    {
      "cell_type": "code",
      "source": [
        "playstore_df['Size'].value_counts()"
      ],
      "metadata": {
        "id": "3EKcWpGIGhYQ"
      },
      "execution_count": null,
      "outputs": []
    },
    {
      "cell_type": "code",
      "source": [
        "playstore_df['Size'] = playstore_df['Size'].apply(lambda x : str(x).replace('Varies with device','NaN') if 'Varies with device' in str(x) else x)"
      ],
      "metadata": {
        "id": "_QnHsgn3GhVg"
      },
      "execution_count": null,
      "outputs": []
    },
    {
      "cell_type": "code",
      "source": [
        "playstore_df['Size'] = playstore_df['Size'].apply(lambda x: float(x))"
      ],
      "metadata": {
        "id": "tzPKLmTTGhSA"
      },
      "execution_count": null,
      "outputs": []
    },
    {
      "cell_type": "code",
      "source": [
        "# checking for null values because we converted the varies with device to nan\n",
        "playstore_df['Size'].isnull().sum()"
      ],
      "metadata": {
        "id": "RFwZ8HbEGhO9"
      },
      "execution_count": null,
      "outputs": []
    },
    {
      "cell_type": "markdown",
      "source": [
        "We see that a vast majority of the entries in this column are of the value Varies with device, replacing this with any central tendency value (mean or median) may give incorrect visualizations and results. Hence these values are left as it is."
      ],
      "metadata": {
        "id": "QOvIm3oANI8W"
      }
    },
    {
      "cell_type": "markdown",
      "source": [
        "##### Reviews columns"
      ],
      "metadata": {
        "id": "Q_QX9OqsNQcH"
      }
    },
    {
      "cell_type": "code",
      "source": [
        "playstore_df['Reviews'].value_counts()"
      ],
      "metadata": {
        "collapsed": true,
        "id": "3F-6EF9OGf8t"
      },
      "execution_count": null,
      "outputs": []
    },
    {
      "cell_type": "code",
      "source": [
        "playstore_df['Reviews'] = playstore_df['Reviews'].astype(int)"
      ],
      "metadata": {
        "id": "v5Ag7YuQGf53"
      },
      "execution_count": null,
      "outputs": []
    },
    {
      "cell_type": "code",
      "source": [
        "playstore_df.describe()"
      ],
      "metadata": {
        "collapsed": true,
        "id": "5ZflwDXLGf2b"
      },
      "execution_count": null,
      "outputs": []
    },
    {
      "cell_type": "markdown",
      "source": [
        "### User_df"
      ],
      "metadata": {
        "id": "VywrEfz1RO_V"
      }
    },
    {
      "cell_type": "code",
      "source": [
        "user_df.isnull().sum()"
      ],
      "metadata": {
        "id": "4A7wMKQFRRf9"
      },
      "execution_count": null,
      "outputs": []
    },
    {
      "cell_type": "markdown",
      "source": [
        "There are a lot of NaN values. We need to analyse these values and see how we can handle them.\n",
        "\n",
        "We can say that the apps which do not have a review (NaN value insted) tend to have NaN values in the columns Sentiment, Sentiment_Polarity, and Sentiment_Subjectivity in the majority of the cases."
      ],
      "metadata": {
        "id": "I_8TjrHMRchr"
      }
    },
    {
      "cell_type": "code",
      "source": [
        "user_df = user_df.dropna()"
      ],
      "metadata": {
        "id": "BUibsk69ReIg"
      },
      "execution_count": null,
      "outputs": []
    },
    {
      "cell_type": "code",
      "source": [
        "user_df.isnull().sum()"
      ],
      "metadata": {
        "id": "k5-Zzh8gReFO"
      },
      "execution_count": null,
      "outputs": []
    },
    {
      "cell_type": "code",
      "source": [
        "# Inspecting the sentiment column\n",
        "user_df['Sentiment'].value_counts()"
      ],
      "metadata": {
        "id": "sAB4OtwQReBk"
      },
      "execution_count": null,
      "outputs": []
    },
    {
      "cell_type": "markdown",
      "source": [
        "# **4. Data Vizualization, Storytelling & Experimenting with charts : Understand the relationships between variables**"
      ],
      "metadata": {
        "id": "GF8Ens_Soomf"
      }
    },
    {
      "cell_type": "markdown",
      "source": [
        "# Data Visualization on play store data:"
      ],
      "metadata": {
        "id": "nW7jSwjuWtC-"
      }
    },
    {
      "cell_type": "markdown",
      "source": [
        "We have sucessfully cleaned the dirty data. Now we can perform some data visualization and come up with insights on the given datasets.\n"
      ],
      "metadata": {
        "id": "e3TPX6TuWo2k"
      }
    },
    {
      "cell_type": "markdown",
      "source": [
        "## Chart 1. Corelation Heatmap"
      ],
      "metadata": {
        "id": "aPKQ64CzZsm4"
      }
    },
    {
      "cell_type": "code",
      "source": [
        "playstore_df_numeric = playstore_df.select_dtypes(include=[np.number])"
      ],
      "metadata": {
        "id": "yHDt2TtaWxn4"
      },
      "execution_count": null,
      "outputs": []
    },
    {
      "cell_type": "code",
      "source": [
        "playstore_df_numeric.corr()"
      ],
      "metadata": {
        "id": "X54ACOtwWxSd"
      },
      "execution_count": null,
      "outputs": []
    },
    {
      "cell_type": "code",
      "source": [
        "# heat map for plystore\n",
        "plt.figure(figsize=(20,10))\n",
        "sns.heatmap(playstore_df_numeric.corr(), annot = True)\n",
        "plt.title('Corelation Heatmap for Playstore Data', size=20)"
      ],
      "metadata": {
        "id": "NWmgVjuxWxOg"
      },
      "execution_count": null,
      "outputs": []
    },
    {
      "cell_type": "markdown",
      "source": [
        "**Findings/Insights**\n",
        "\n",
        "* There is a strong positive correlation between the Reviews and Installs column. This is pretty much obvious. Higher the number of installs, higher is the user base, and higher are the total number of reviews dropped by the users.\n",
        "* The` Price `is slightly negatively correlated with the `Rating, Reviews, and Installs.` This means that as the prices of the app increases, the average rating, total number of reviews and Installs fall slightly.\n",
        "* The` Rating` is slightly positively correlated with the` Installs and Reviews` column. This indicates that as the the average user rating increases, the app installs and number of reviews also increase."
      ],
      "metadata": {
        "id": "Tj30k15sYkWo"
      }
    },
    {
      "cell_type": "markdown",
      "source": [
        "**Why did I choose this chart?**\n",
        "\n",
        "I choose this chart to find the corelation between multiple numerical variables based on color intensity"
      ],
      "metadata": {
        "id": "7cS3mVkklNr7"
      }
    },
    {
      "cell_type": "markdown",
      "source": [
        "**Will the gained insights help creating a positive business impact?**\n",
        "\n",
        "Recognizing that higher installs lead to more reviews suggests that encouraging more users to install the app can boost the overall feedback and visibility. This can be achieved through marketing efforts or referral programs.\n"
      ],
      "metadata": {
        "id": "p-qjU_Hpl49a"
      }
    },
    {
      "cell_type": "markdown",
      "source": [
        "> Let us check if there is any co-relation in both the dataframes.\n",
        "\n",
        "\n"
      ],
      "metadata": {
        "id": "tGe9iGswYqG7"
      }
    },
    {
      "cell_type": "code",
      "source": [
        "merged_df = pd.merge(playstore_df, user_df, on='App', how = \"inner\")"
      ],
      "metadata": {
        "id": "UQsr32RBWxLV"
      },
      "execution_count": null,
      "outputs": []
    },
    {
      "cell_type": "code",
      "source": [
        "def merged_dfinfo():\n",
        "  temp = pd.DataFrame(index=merged_df.columns)\n",
        "  temp['data_type'] = merged_df.dtypes\n",
        "  temp[\"count of non null values\"] = merged_df.count()\n",
        "  temp['NaN values'] = merged_df.isnull().sum()\n",
        "  temp['% NaN values'] =merged_df.isnull().mean()\n",
        "  temp['unique_count'] = merged_df.nunique()\n",
        "  return temp\n",
        "merged_dfinfo()"
      ],
      "metadata": {
        "id": "USDKzgW0WxIE"
      },
      "execution_count": null,
      "outputs": []
    },
    {
      "cell_type": "markdown",
      "source": [
        "**Co relation Heatmap of merged dataframe**"
      ],
      "metadata": {
        "id": "D1qYzPP9ZTOC"
      }
    },
    {
      "cell_type": "code",
      "source": [
        "merged_df_numeric = merged_df.select_dtypes(include=[np.number]).corr()"
      ],
      "metadata": {
        "id": "GT8xq3DJWxE0"
      },
      "execution_count": null,
      "outputs": []
    },
    {
      "cell_type": "code",
      "source": [
        "# Heat Map for the merged data frame\n",
        "plt.figure(figsize = (15,10))\n",
        "sns.heatmap(merged_df_numeric, annot= True, cmap='Greens')\n",
        "plt.title(' Heatmap for merged Dataframe', size=20)"
      ],
      "metadata": {
        "id": "CzsYnP4OWxB9"
      },
      "execution_count": null,
      "outputs": []
    },
    {
      "cell_type": "code",
      "source": [
        "merged_df = merged_df.dropna(subset=['Sentiment', 'Translated_Review'])"
      ],
      "metadata": {
        "id": "xwjxStdfWw_F"
      },
      "execution_count": null,
      "outputs": []
    },
    {
      "cell_type": "markdown",
      "source": [
        "## Chart 2. What is the ratio of number of Paid apps and Free apps?"
      ],
      "metadata": {
        "id": "c-q4C0ZnZ3CR"
      }
    },
    {
      "cell_type": "code",
      "source": [
        "data = playstore_df['Type'].value_counts()\n",
        "labels = ['Free', 'Paid']\n",
        "\n",
        "#create a pie chart\n",
        "plt.figure(figsize=(5,5))\n",
        "colors = [\"#00EE76\",\"#7B8895\"]\n",
        "explode=(0.01,0.1)\n",
        "plt.pie(data, labels = labels, colors = colors, autopct='%.2f%%',explode=explode,textprops={'fontsize': 15})\n",
        "plt.title('Distribution of Paid and Free apps',size=15,loc='center')\n",
        "plt.legend()\n"
      ],
      "metadata": {
        "id": "EDXb34jSWw7V"
      },
      "execution_count": null,
      "outputs": []
    },
    {
      "cell_type": "markdown",
      "source": [
        "**Findings/Insights**\n",
        "\n",
        "From the above graph we can see that 92% of apps in google play store are free and 8%are paid."
      ],
      "metadata": {
        "id": "OLqMvCzmaziv"
      }
    },
    {
      "cell_type": "markdown",
      "source": [
        "**Why did I choose this chart?**\n",
        "\n",
        "Pie chart is effective to calculate % distribution."
      ],
      "metadata": {
        "id": "SI7zmDp8nIt1"
      }
    },
    {
      "cell_type": "markdown",
      "source": [
        "**Will the gained insights help creating a positive business impact?**\n",
        "\n",
        "With 92.2% of apps being free, businesses should focus on freemium models and in-app purchases to attract and retain users.\n",
        "\n"
      ],
      "metadata": {
        "id": "A1lAS8YbnTXc"
      }
    },
    {
      "cell_type": "markdown",
      "source": [
        "## Chart 3. Which category of Apps from the Content Rating column are found more on playstore ?"
      ],
      "metadata": {
        "id": "vvwcPjRMa6jv"
      }
    },
    {
      "cell_type": "code",
      "source": [
        "# Content rating of the apps\n",
        "data = playstore_df['Content Rating'].value_counts()\n",
        "labels = ['Everyone', 'Teen', 'Everyone 10+', 'Mature 17+','Adults only 18+', 'Unrated']\n",
        "\n",
        "#create pie chart\n",
        "plt.figure(figsize=(10,10))\n",
        "explode=(0,0.1,0.1,0.1,0.0,1.3)\n",
        "colors = ['C4', 'r', 'c', 'g', 'm', 'k']\n",
        "plt.pie(data, labels = labels, colors = colors, autopct='%.2f%%',explode=explode,textprops={'fontsize': 15})\n",
        "plt.title('Content Rating',size=20,loc='center')\n",
        "plt.legend()"
      ],
      "metadata": {
        "id": "m4TECKCIWw4E"
      },
      "execution_count": null,
      "outputs": []
    },
    {
      "cell_type": "markdown",
      "source": [
        "**Findings/Insights**\n",
        "\n",
        "Everyone content rating has the highest 81.80% on playstore, followed by teen.\n"
      ],
      "metadata": {
        "id": "6z1oWsctojtg"
      }
    },
    {
      "cell_type": "markdown",
      "source": [
        "**Why did I choose this chart**\n",
        "\n",
        "Resason - Useful for % distribution"
      ],
      "metadata": {
        "id": "VHkKWhHvpEX8"
      }
    },
    {
      "cell_type": "markdown",
      "source": [
        "**Will the gained insights help creating a positive business impact?**"
      ],
      "metadata": {
        "id": "GbbDRhzDpMbk"
      }
    },
    {
      "cell_type": "markdown",
      "source": [
        "## Chart 4. Top categories on Google Playstore?"
      ],
      "metadata": {
        "id": "rMW8nlinB-wc"
      }
    },
    {
      "cell_type": "code",
      "source": [
        "playstore_df.groupby('Category')['App'].count().sort_values(ascending = False)"
      ],
      "metadata": {
        "collapsed": true,
        "id": "f53gNL3JbAVE"
      },
      "execution_count": null,
      "outputs": []
    },
    {
      "cell_type": "code",
      "source": [
        "x = playstore_df['Category'].value_counts()\n",
        "y = playstore_df['Category'].value_counts().index\n",
        "\n",
        "x_list = []\n",
        "y_list = []\n",
        "\n",
        "for i in range(len(x)):\n",
        "    x_list.append(x[i])\n",
        "    y_list.append(y[i])\n",
        "    #print(x[i], y[i])"
      ],
      "metadata": {
        "id": "rIf50MRgbAQk"
      },
      "execution_count": null,
      "outputs": []
    },
    {
      "cell_type": "code",
      "source": [
        "#Number of apps belonging to each category in the playstore\n",
        "plt.figure(figsize=(20,10))\n",
        "plt.xlabel('Number of Apps', size=15)\n",
        "plt.ylabel('App Categories', size=15)\n",
        "graph = sns.barplot(y = x_list, x = y_list, palette= \"tab10\")\n",
        "graph.set_title(\"Top categories on Playstore\", fontsize = 25)\n",
        "graph.set_xticklabels(graph.get_xticklabels(), rotation= 45, horizontalalignment='right',);"
      ],
      "metadata": {
        "id": "pz4J93gFbAKV"
      },
      "execution_count": null,
      "outputs": []
    },
    {
      "cell_type": "markdown",
      "source": [
        "**Findings/Insights**\n",
        "\n",
        "So there are all total 33 categories in the dataset From the above output we can come to a conclusion that in playstore most of the apps are under FAMILY & GAME category and least are of EVENTS & BEAUTY Category."
      ],
      "metadata": {
        "id": "JagLGrKcDq6E"
      }
    },
    {
      "cell_type": "markdown",
      "source": [
        "**Why did I choose this chart?**\n",
        "\n",
        "Barchart is effective to compare numerical data against category"
      ],
      "metadata": {
        "id": "4wszUGjSst7c"
      }
    },
    {
      "cell_type": "markdown",
      "source": [
        "**Will the gained insights help creating a positive business impact?**\n",
        "\n",
        "Understanding the distribution of apps across categories allows businesses to allocate resources effectively, focusing on areas with the greatest potential for growth."
      ],
      "metadata": {
        "id": "s40P3NKOs8Bc"
      }
    },
    {
      "cell_type": "markdown",
      "source": [
        " Percentage of apps belonging to each category in the playstore\n",
        "\n",
        "\n"
      ],
      "metadata": {
        "id": "VFh6LkpjDx_S"
      }
    },
    {
      "cell_type": "code",
      "source": [
        "plt.figure(figsize= (20,20))\n",
        "plt.pie(playstore_df.Category.value_counts(), labels =playstore_df.Category.value_counts().index, autopct='%1.2f%%' )\n",
        "my_circle = plt.Circle( (0,0), 0.50, color='white')\n",
        "p=plt.gcf()\n",
        "p.gca().add_artist(my_circle)\n",
        "plt.title('Percentage of apps share in each Category', fontsize = 25)\n",
        "plt.show()"
      ],
      "metadata": {
        "id": "bOne_XOFbAHU"
      },
      "execution_count": null,
      "outputs": []
    },
    {
      "cell_type": "markdown",
      "source": [
        "## Chart 5. Which category App's have most number of installs?"
      ],
      "metadata": {
        "id": "4fxS4pGDEaoW"
      }
    },
    {
      "cell_type": "code",
      "source": [
        "# total app installs in each category of the play store\n",
        "\n",
        "a = playstore_df.groupby('Category')['Installs'].sum().sort_values(ascending = True)\n",
        "a.plot.barh(figsize=(15,10), color = 'c', )\n",
        "plt.ylabel('Total app Installs', fontsize = 15)\n",
        "plt.xlabel('App Categories', fontsize = 15)\n",
        "plt.xticks()\n",
        "plt.title('Total app installs in each category', fontsize = 20)"
      ],
      "metadata": {
        "id": "kWoRypCobAD2"
      },
      "execution_count": null,
      "outputs": []
    },
    {
      "cell_type": "markdown",
      "source": [
        "**Findings/ Insights**\n",
        "\n",
        "This tells us the category of apps that has the maximum number of installs. The Game, Communication and Tools categories has the highest number of installs compared to other categories of apps."
      ],
      "metadata": {
        "id": "kzm9jDfJGX-g"
      }
    },
    {
      "cell_type": "markdown",
      "source": [
        "**Why did I choose this chart**\n",
        "\n",
        "Again Numerical Vs Categorical"
      ],
      "metadata": {
        "id": "toX9zKc5tRh5"
      }
    },
    {
      "cell_type": "markdown",
      "source": [
        "**Will the gained insights help creating a positive business impact?**\n",
        "\n",
        "Understanding the app category popularity allows businesses to tailor their marketing strategies to focus on the most installed categories, increasing the likelihood of user engagement and retention.\n",
        "\n"
      ],
      "metadata": {
        "id": "rswF4KautYI1"
      }
    },
    {
      "cell_type": "markdown",
      "source": [
        "## Chart 6. Average rating of the apps"
      ],
      "metadata": {
        "id": "Xp-EzVlCGfKj"
      }
    },
    {
      "cell_type": "code",
      "source": [
        "playstore_df['Rating'].value_counts().plot.bar(figsize = (20,8), color = 'm')\n",
        "plt.xlabel('Average rating',fontsize = 15 )\n",
        "plt.ylabel('Number of apps', fontsize = 15)\n",
        "plt.title('Average rating of apps in Playstore', fontsize = 20)\n",
        "plt.legend()"
      ],
      "metadata": {
        "id": "36VHkeRXa_-C"
      },
      "execution_count": null,
      "outputs": []
    },
    {
      "cell_type": "markdown",
      "source": [
        "* We can represent the ratings in a better way if we group the ratings between certain intervals. Here, we can group the rating as follows:\n",
        "\n",
        "1. 4-5: Top rated\n",
        "2. 3-4: Above average\n",
        "3. 2-3: Average\n",
        "4. 1-2: Below average"
      ],
      "metadata": {
        "id": "zRvQIeyFG6H3"
      }
    },
    {
      "cell_type": "code",
      "source": [
        "# Defining a function grouped_rating to group the ratings as mentioned above\n",
        "def rating_app(val):\n",
        "    if val >=4:\n",
        "        return 'Top rated'\n",
        "    elif val>=3 and val <4:\n",
        "        return 'Above average'\n",
        "    elif val>=2 and val<3:\n",
        "        return 'Average'\n",
        "    else:\n",
        "        return 'Below average'"
      ],
      "metadata": {
        "id": "yfePApeRa_6w"
      },
      "execution_count": null,
      "outputs": []
    },
    {
      "cell_type": "code",
      "source": [
        "playstore_df['Rating_Groups'] = playstore_df['Rating'].apply(lambda x: rating_app(x))"
      ],
      "metadata": {
        "id": "S4NQlqwxa_4R"
      },
      "execution_count": null,
      "outputs": []
    },
    {
      "cell_type": "code",
      "source": [
        "# Average app ratings\n",
        "playstore_df['Rating_Groups'].value_counts().plot.bar(figsize=(15,5), color = 'royalblue')\n",
        "plt.xlabel('Rating Group', fontsize = 12)\n",
        "plt.ylabel('Number of apps', fontsize = 12)\n",
        "plt.title('Average app ratings', fontsize = 18)\n",
        "plt.xticks(rotation=0)\n",
        "plt.legend()"
      ],
      "metadata": {
        "id": "va4sHVCNa_0M"
      },
      "execution_count": null,
      "outputs": []
    },
    {
      "cell_type": "markdown",
      "source": [
        "## Chart 7. What are the Top 10 installed apps in any category?"
      ],
      "metadata": {
        "id": "rCJ0LsZyINI8"
      }
    },
    {
      "cell_type": "code",
      "source": [
        "def top_10_in_category(str):\n",
        "    str = str.upper()\n",
        "    top_10 = playstore_df[playstore_df['Category'] == str]\n",
        "    top_10_apps = top_10.sort_values(by='Installs', ascending=False).head(10)\n",
        "    plt.figure(figsize=(15,6), dpi=100)\n",
        "    plt.title('Top 10 Installed Apps',size = 20)\n",
        "    graph = sns.barplot(x = top_10_apps.App, y = top_10_apps.Installs, palette= \"icefire\")\n",
        "    graph.set_xticklabels(graph.get_xticklabels(), rotation= 45, horizontalalignment='right')"
      ],
      "metadata": {
        "id": "A5-m8Wgea_ui"
      },
      "execution_count": null,
      "outputs": []
    },
    {
      "cell_type": "code",
      "source": [
        "top_10_in_category('game')"
      ],
      "metadata": {
        "id": "XniW736ya_qS"
      },
      "execution_count": null,
      "outputs": []
    },
    {
      "cell_type": "code",
      "source": [
        "top_10_in_category('family')"
      ],
      "metadata": {
        "id": "lh7eBwRUa_k_"
      },
      "execution_count": null,
      "outputs": []
    },
    {
      "cell_type": "markdown",
      "source": [
        "**Findings**\n",
        "\n",
        "From the above graph we can see that in the Game category Subway Surfers,Candy Crush Saga, Temple Run 2 has the highest installs. In the same way we by passing different category names to the function, we can get the top 10 installed apps."
      ],
      "metadata": {
        "id": "vYQgj3GkJgAQ"
      }
    },
    {
      "cell_type": "markdown",
      "source": [
        "## Chart 8: Top apps that are of free type?"
      ],
      "metadata": {
        "id": "CtvY_z4CvLDy"
      }
    },
    {
      "cell_type": "code",
      "source": [
        "free_df = playstore_df[playstore_df['Type'] == 'Free']"
      ],
      "metadata": {
        "id": "oE4B6ZQSvStj"
      },
      "execution_count": null,
      "outputs": []
    },
    {
      "cell_type": "code",
      "source": [
        "top_10_free_app = free_df[free_df['Installs'] == free_df['Installs'].max()]"
      ],
      "metadata": {
        "id": "BFheWRWqvSmu"
      },
      "execution_count": null,
      "outputs": []
    },
    {
      "cell_type": "code",
      "source": [
        "top_10_free_app['App']"
      ],
      "metadata": {
        "collapsed": true,
        "id": "6r-BhNrjvSjO"
      },
      "execution_count": null,
      "outputs": []
    },
    {
      "cell_type": "code",
      "source": [
        "top_10_free_app['Category'].value_counts().plot.bar(figsize=(20,6), color= ('darkcyan','blueviolet'))\n",
        "plt.xlabel('Category', size=15)\n",
        "plt.ylabel('Number of apps', size=15)\n",
        "plt.title('Categories in which the top 20 free apps belong', size=19)\n",
        "plt.xticks(rotation=45)\n",
        "plt.legend()\n"
      ],
      "metadata": {
        "id": "mCiegRYTwH0w"
      },
      "execution_count": null,
      "outputs": []
    },
    {
      "cell_type": "markdown",
      "source": [
        "## Chart 9 : Top apps that are of paid type."
      ],
      "metadata": {
        "id": "uWX2ryIiwUch"
      }
    },
    {
      "cell_type": "code",
      "source": [
        "paid_df = playstore_df[playstore_df['Type'] == 'Paid']"
      ],
      "metadata": {
        "id": "eC8ntf6-wbbZ"
      },
      "execution_count": null,
      "outputs": []
    },
    {
      "cell_type": "code",
      "source": [
        "paid_df.groupby('Price')['App'].count().sort_values(ascending= False).plot.bar(figsize = (30,6), color = 'crimson')"
      ],
      "metadata": {
        "id": "eLUb0WlTwbXq"
      },
      "execution_count": null,
      "outputs": []
    },
    {
      "cell_type": "markdown",
      "source": [
        "**Findings**\n",
        "\n",
        "* The paid apps charge the users a certain amount to download and install the app. This amount varies from one app to another.\n",
        "* There are a lot of apps that charge a small amount whereas some apps charge a larger amount. In this case the price to download an app varies from USD 0.99 to USD 400.\n",
        "* In order to select the top paid apps, it won't be fair to look just into the numer of installs. This is because the apps that charge a lower installation fee will be installed by more number of people in general.\n",
        "* Here a better way to determine the top apps in the paid category is by finding the revenue it generated through app installs.\n",
        "* This is given by:\n",
        "\n",
        " Revenue generated through installs = (Number of installs)x(Price to install the app)\n"
      ],
      "metadata": {
        "id": "kpeCFoDVyThm"
      }
    },
    {
      "cell_type": "markdown",
      "source": [
        "**Create new column Revenue in the paid_df to visualize**"
      ],
      "metadata": {
        "id": "wELOOADbybmQ"
      }
    },
    {
      "cell_type": "code",
      "source": [
        "paid_df['Revenue'] = paid_df['Price']* paid_df['Installs']\n",
        "paid_df.head()"
      ],
      "metadata": {
        "id": "mXbWrpD4yl7I"
      },
      "execution_count": null,
      "outputs": []
    },
    {
      "cell_type": "code",
      "source": [
        "paid_df[paid_df['Revenue'] == paid_df['Revenue'].max()]"
      ],
      "metadata": {
        "id": "SdODqHbMy6w2"
      },
      "execution_count": null,
      "outputs": []
    },
    {
      "cell_type": "code",
      "source": [
        "# Top 10 paid apps in the play store\n",
        "top10paid_apps=paid_df.nlargest(10, 'Revenue', keep='first')\n",
        "top10paid_apps['App']"
      ],
      "metadata": {
        "id": "oI3NmTrazJG8"
      },
      "execution_count": null,
      "outputs": []
    },
    {
      "cell_type": "code",
      "source": [
        "# Categories in which the top 10 paid apps belong to\n",
        "top10paid_apps['Category'].value_counts().plot.bar(figsize=(15,5), color= [\"orange\", \"red\", \"green\", \"blue\", \"purple\"])\n",
        "plt.xlabel('Category',size=12)\n",
        "plt.ylabel('Number of apps',size=12)\n",
        "plt.title('Categories in which the top 10 paid apps belong', size=15)\n",
        "plt.xticks(rotation=0)\n",
        "plt.legend()\n"
      ],
      "metadata": {
        "id": "G4MB6KlXzNoR"
      },
      "execution_count": null,
      "outputs": []
    },
    {
      "cell_type": "code",
      "source": [
        "# Top paid apps according to the revenue generated through installs alone\n",
        "top10paid_apps.groupby('App')['Revenue'].mean().sort_values(ascending= True).plot.barh(figsize=(16,10), color='darkorange')\n",
        "plt.xlabel('Revenue Generated (USD)', size=15)\n",
        "plt.title('Top apps based on revenue generated through installation fee', size=20)\n",
        "plt.legend()"
      ],
      "metadata": {
        "id": "TFu9IzhPzUEJ"
      },
      "execution_count": null,
      "outputs": []
    },
    {
      "cell_type": "markdown",
      "source": [
        "## Chart 10 : Does Last Update date has an effects on rating?"
      ],
      "metadata": {
        "id": "lZ3ST58p0Vm6"
      }
    },
    {
      "cell_type": "code",
      "source": [
        "print(playstore_df['Last Updated'].head())\n",
        "#fetch update year from date\n",
        "playstore_df[\"Update year\"] = playstore_df[\"Last Updated\"].apply(lambda x: x.strftime('%Y')).astype('int64')"
      ],
      "metadata": {
        "id": "NLHXotVS0e5G"
      },
      "execution_count": null,
      "outputs": []
    },
    {
      "cell_type": "code",
      "source": [
        "fig, ax = plt.subplots(figsize=(12,6))\n",
        "sns.lineplot(x=\"Update year\", y=\"Rating\", data=playstore_df)\n",
        "plt.title(\"Update Year VS Rating\")"
      ],
      "metadata": {
        "id": "n1uF78iL090b"
      },
      "execution_count": null,
      "outputs": []
    },
    {
      "cell_type": "markdown",
      "source": [
        "# Data Visualization on User Reviews:"
      ],
      "metadata": {
        "id": "pp1bPIKYJ6xw"
      }
    },
    {
      "cell_type": "markdown",
      "source": [
        "## Chart 1. Percentage of Review Sentiments"
      ],
      "metadata": {
        "id": "Hc-4bI5tKILj"
      }
    },
    {
      "cell_type": "code",
      "source": [
        "import matplotlib\n",
        "counts = list(user_df['Sentiment'].value_counts())\n",
        "labels = 'Positive Reviews', 'Negative Reviews','Neutral Reviews'\n",
        "matplotlib.rcParams['font.size'] = 20\n",
        "matplotlib.rcParams['figure.figsize'] = (10, 15)\n",
        "plt.pie(counts, labels=labels, explode=[0.01, 0.05, 0.05], shadow=True, autopct=\"%.2f%%\")\n",
        "plt.title('Percentage of Review Sentiments', fontsize=20)\n",
        "plt.axis('off')\n",
        "plt.legend(bbox_to_anchor=(0.9, 0, 0.5, 1))\n",
        "plt.show()"
      ],
      "metadata": {
        "id": "cS5eOXoma_hA"
      },
      "execution_count": null,
      "outputs": []
    },
    {
      "cell_type": "markdown",
      "source": [
        "**Findings**\n",
        "\n",
        "\n",
        "1. Positive reviews are **64.30%**\n",
        "2. Negative reviews are **22.80%**\n",
        "3. Neutral reviews are **12.90%**"
      ],
      "metadata": {
        "id": "q6F8JGUuK1yz"
      }
    },
    {
      "cell_type": "markdown",
      "source": [
        "## Chart 2.  Apps with the highest number of positive reviews"
      ],
      "metadata": {
        "id": "fhcREbJxK5AF"
      }
    },
    {
      "cell_type": "code",
      "source": [
        "positive_user_df = user_df[user_df['Sentiment'] == 'Positive']"
      ],
      "metadata": {
        "id": "SE4lBnkia_be"
      },
      "execution_count": null,
      "outputs": []
    },
    {
      "cell_type": "code",
      "source": [
        "positive_user_df.groupby('App')['Sentiment'].value_counts().nlargest(10).plot.barh(figsize=(10,8),color='seagreen').invert_yaxis()\n",
        "plt.title(\"Top 10 positive review apps\")\n",
        "plt.xlabel('Total number of positive reviews')\n",
        "plt.legend()"
      ],
      "metadata": {
        "id": "A6aRY8XMa_YA"
      },
      "execution_count": null,
      "outputs": []
    },
    {
      "cell_type": "markdown",
      "source": [
        "**Findings**\n",
        "\n",
        "Helix Jump is the app who has highest positive sentiment."
      ],
      "metadata": {
        "id": "MLV-yHebuFx4"
      }
    },
    {
      "cell_type": "markdown",
      "source": [
        "## Chart 3. Apps with the highest number of negative reviews."
      ],
      "metadata": {
        "id": "sVMTQLrMLdr8"
      }
    },
    {
      "cell_type": "code",
      "source": [
        "negative_user_df = user_df[user_df['Sentiment'] == 'Negative']"
      ],
      "metadata": {
        "id": "btmR4k3lLNp4"
      },
      "execution_count": null,
      "outputs": []
    },
    {
      "cell_type": "code",
      "source": [
        "negative_user_df.groupby('App')['Sentiment'].value_counts().nlargest(10).plot.barh(figsize=(10,8),color='red').invert_yaxis()\n",
        "plt.title(\"Top 10 positive review apps\")\n",
        "plt.xlabel('Total number of positive reviews')\n",
        "plt.legend()"
      ],
      "metadata": {
        "id": "OneVwZSoLNn5"
      },
      "execution_count": null,
      "outputs": []
    },
    {
      "cell_type": "markdown",
      "source": [
        "**Findings**\n",
        "\n",
        "Angry Bird Classic has the highest negative sentiment."
      ],
      "metadata": {
        "id": "a-iYtGQxuXu6"
      }
    },
    {
      "cell_type": "markdown",
      "source": [
        "# **5. Solution to Business Objective**"
      ],
      "metadata": {
        "id": "JcMwzZxoAimU"
      }
    },
    {
      "cell_type": "markdown",
      "source": [
        "#### What do you suggest the client to achieve Business Objective ?\n",
        "1. Developing apps related to the least categories as they are not explored much. Like events and beauty.\n",
        "2. Most of the apps are Free, so focusing on free app is more important.\n",
        "3. Focusing more on content available for Everyone will increase the chances of getting the highest installs.\n",
        "4. They need to focus on updating their apps regularly, so that it will attract more users.\n",
        "5. They need to keep in mind that the sentiments of the user keep varying as they keep using the app, so they should focus more on users needs and features."
      ],
      "metadata": {
        "id": "8G2x9gOozGDZ"
      }
    },
    {
      "cell_type": "markdown",
      "source": [
        "#  **6. Conclusion**"
      ],
      "metadata": {
        "id": "gCX9965dhzqZ"
      }
    },
    {
      "cell_type": "markdown",
      "source": [
        "In this project of analyzing play store applications, we have worked on several parameters which would help Business to do well in launching their apps on the play store.\n",
        "\n",
        "In the initial phase, we focused more on the problem statements and data cleaning, in order to ensure that we give them the best results out of our analysis.\n",
        "\n",
        "Next, we analysed the data on the certain patterns using the graphs and data visualization libraries. Following the questions to analyse, why did we use specific charts, what insights we got and how they impact on business.\n",
        "\n",
        "Finally, we end to summarise our finding and suggest what needs to be done in order to achieve business."
      ],
      "metadata": {
        "id": "Fjb1IsQkh3yE"
      }
    },
    {
      "cell_type": "markdown",
      "source": [
        "### ***Hurrah! You have successfully completed your EDA Capstone Project !!!***"
      ],
      "metadata": {
        "id": "gIfDvo9L0UH2"
      }
    }
  ]
}